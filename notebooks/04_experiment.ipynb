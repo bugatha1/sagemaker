{
 "cells": [
  {
   "cell_type": "code",
   "execution_count": 3,
   "metadata": {},
   "outputs": [
    {
     "name": "stdout",
     "output_type": "stream",
     "text": [
      "/root/sagemaker/notebooks\n"
     ]
    }
   ],
   "source": [
    "%cd /root/sagemaker/notebooks/"
   ]
  },
  {
   "cell_type": "code",
   "execution_count": 4,
   "metadata": {},
   "outputs": [
    {
     "name": "stdout",
     "output_type": "stream",
     "text": [
      "Artifacts will be written to s3://sagemaker-churn-20220310/mnist\n"
     ]
    }
   ],
   "source": [
    "import datetime\n",
    "import boto3\n",
    "import pandas as pd\n",
    "import sagemaker\n",
    "from sagemaker import get_execution_role\n",
    "\n",
    "BUCKET = 'sagemaker-churn-20220310'\n",
    "PREFIX = 'mnist'\n",
    "LOCAL_DATA_DIRECTORY = f'../data/{PREFIX}'\n",
    "print(f\"Artifacts will be written to s3://{BUCKET}/{PREFIX}\")\n",
    "\n",
    "sagemaker_session = sagemaker.Session()\n",
    "boto_session = sagemaker_session.boto_session\n",
    "sagemaker_client = boto_session.client('sagemaker')\n",
    "role = get_execution_role()"
   ]
  },
  {
   "cell_type": "code",
   "execution_count": 5,
   "metadata": {},
   "outputs": [
    {
     "data": {
      "text/plain": [
       "\u001b[0;31mInit signature:\u001b[0m \u001b[0mExperiment\u001b[0m\u001b[0;34m(\u001b[0m\u001b[0msagemaker_boto_client\u001b[0m\u001b[0;34m,\u001b[0m \u001b[0;34m**\u001b[0m\u001b[0mkwargs\u001b[0m\u001b[0;34m)\u001b[0m\u001b[0;34m\u001b[0m\u001b[0;34m\u001b[0m\u001b[0m\n",
       "\u001b[0;31mDocstring:\u001b[0m     \n",
       "An Amazon SageMaker experiment, which is a collection of related trials.\n",
       "\n",
       "New experiments are created by calling :meth:`~smexperiments.experiment.Experiment.create`. Existing\n",
       "experiments can be reloaded by calling :meth:`~smexperiments.experiment.Experiment.load`. You can\n",
       "add a new trial to an Experiment by calling :meth:`~smexperiments.experiment.Experiment.create_trial`.\n",
       "To remove an experiment and associated trials, trial components by calling :meth:`~smexperiments.experiment\n",
       ".Experiment.delete_all`.\n",
       "\n",
       "Examples:\n",
       "    .. code-block:: python\n",
       "\n",
       "        from smexperiments import experiment\n",
       "\n",
       "        my_experiment = experiment.Experiment.create(experiment_name='AutoML')\n",
       "        my_trial = my_experiment.create_trial(trial_name='random-forest')\n",
       "\n",
       "        for exp in experiment.Experiment.list():\n",
       "            print(exp)\n",
       "        for trial in my_experiment.list_trials():\n",
       "            print(trial)\n",
       "\n",
       "        my_experiment.delete_all(action=\"--force\")\n",
       "\n",
       "Attributes:\n",
       "    experiment_name (str): The name of the experiment. The name must be unique within an account.\n",
       "    description (str): A description of the experiment.\n",
       "    tags (List[dict[str, str]]): A list of tags to associate with the experiment.\n",
       "\u001b[0;31mFile:\u001b[0m           /opt/conda/lib/python3.7/site-packages/smexperiments/experiment.py\n",
       "\u001b[0;31mType:\u001b[0m           type\n",
       "\u001b[0;31mSubclasses:\u001b[0m     \n"
      ]
     },
     "metadata": {},
     "output_type": "display_data"
    }
   ],
   "source": [
    "from smexperiments.experiment import Experiment\n",
    "\n",
    "Experiment?"
   ]
  },
  {
   "cell_type": "code",
   "execution_count": 7,
   "metadata": {},
   "outputs": [
    {
     "data": {
      "text/plain": [
       "\u001b[0;31mInit signature:\u001b[0m \u001b[0mTrial\u001b[0m\u001b[0;34m(\u001b[0m\u001b[0msagemaker_boto_client\u001b[0m\u001b[0;34m,\u001b[0m \u001b[0;34m**\u001b[0m\u001b[0mkwargs\u001b[0m\u001b[0;34m)\u001b[0m\u001b[0;34m\u001b[0m\u001b[0;34m\u001b[0m\u001b[0m\n",
       "\u001b[0;31mDocstring:\u001b[0m     \n",
       "An execution of a data-science workflow with an experiment.\n",
       "\n",
       "Consists of a list of trial component objects, which document individual activities within the workflow.\n",
       "\n",
       "Examples:\n",
       "    .. code-block:: python\n",
       "\n",
       "        from smexperiments import trial, experiment, tracker\n",
       "\n",
       "        my_experiment = experiment.Experiment.create(experiment_name='AutoML')\n",
       "        my_trial = trial.Trial.create('AutoML')\n",
       "\n",
       "        my_tracker = tracker.Tracker.create()\n",
       "        # log hyper parameter of learning rate\n",
       "        my_tracker.log_parameter('learning_rate', 0.01)\n",
       "        my_trial.add_trial_component(my_tracker)\n",
       "\n",
       "        for trial_component in my_trial.list_trial_components():\n",
       "            print(trial_component)\n",
       "\n",
       "        my_trial.remove_trial_component(my_tracker)\n",
       "        my_trial.delete()\n",
       "\n",
       "Attributes:\n",
       "    trial_name (str): The name of the trial.\n",
       "    experiment_name (str): The name of the trial's experiment.\n",
       "    tags (List[dict[str, str]]): A list of tags to associate with the trial.\n",
       "\u001b[0;31mFile:\u001b[0m           /opt/conda/lib/python3.7/site-packages/smexperiments/trial.py\n",
       "\u001b[0;31mType:\u001b[0m           type\n",
       "\u001b[0;31mSubclasses:\u001b[0m     \n"
      ]
     },
     "metadata": {},
     "output_type": "display_data"
    }
   ],
   "source": [
    "from smexperiments.trial import Trial\n",
    "\n",
    "Trial?"
   ]
  },
  {
   "cell_type": "code",
   "execution_count": 8,
   "metadata": {},
   "outputs": [
    {
     "data": {
      "text/plain": [
       "\u001b[0;31mInit signature:\u001b[0m \u001b[0mTrialComponent\u001b[0m\u001b[0;34m(\u001b[0m\u001b[0msagemaker_boto_client\u001b[0m\u001b[0;34m,\u001b[0m \u001b[0;34m**\u001b[0m\u001b[0mkwargs\u001b[0m\u001b[0;34m)\u001b[0m\u001b[0;34m\u001b[0m\u001b[0;34m\u001b[0m\u001b[0m\n",
       "\u001b[0;31mDocstring:\u001b[0m     \n",
       "This class represents a SageMaker trial component object.\n",
       "\n",
       "A trial component is a stage in a trial.\n",
       "\n",
       "Trial components are created automatically within the SageMaker runtime and may not be created directly.\n",
       "To automatically associate trial components with a trial and experiment supply an experiment config when creating a\n",
       "job. For example: https://docs.aws.amazon.com/sagemaker/latest/dg/API_CreateTrainingJob.html\n",
       "\n",
       "Attributes:\n",
       "    trial_component_name (str): The name of the trial component. Generated by SageMaker from the name of the\n",
       "        source job with a suffix specific to the type of source job.\n",
       "    trial_component_arn (str): The ARN of the trial component.\n",
       "    display_name (str): The name of the trial component that will appear in UI, such as SageMaker Studio.\n",
       "    source (obj): A TrialComponentSource object with a source_arn attribute.\n",
       "    status (str): Status of the source job.\n",
       "    start_time (datetime): When the source job started.\n",
       "    end_time (datetime): When the source job ended.\n",
       "    creation_time (datetime): When the source job was created.\n",
       "    created_by (obj): Contextual info on which account created the trial component.\n",
       "    last_modified_time (datetime): When the trial component was last modified.\n",
       "    last_modified_by (obj): Contextual info on which account last modified the trial component.\n",
       "    parameters (dict): Dictionary of parameters to the source job.\n",
       "    input_artifacts (dict): Dictionary of input artifacts.\n",
       "    output_artifacts (dict): Dictionary of output artifacts.\n",
       "    metrics (obj): Aggregated metrics for the job.\n",
       "    parameters_to_remove (list): The hyperparameters to remove from the component.\n",
       "    input_artifacts_to_remove (list): The input artifacts to remove from the component.\n",
       "    output_artifacts_to_remove (list): The output artifacts to remove from the component.\n",
       "    tags (List[dict[str, str]]): A list of tags to associate with the trial component.\n",
       "\u001b[0;31mFile:\u001b[0m           /opt/conda/lib/python3.7/site-packages/smexperiments/trial_component.py\n",
       "\u001b[0;31mType:\u001b[0m           type\n",
       "\u001b[0;31mSubclasses:\u001b[0m     \n"
      ]
     },
     "metadata": {},
     "output_type": "display_data"
    }
   ],
   "source": [
    "from smexperiments.trial_component import TrialComponent\n",
    "\n",
    "TrialComponent?"
   ]
  },
  {
   "cell_type": "code",
   "execution_count": 9,
   "metadata": {},
   "outputs": [
    {
     "data": {
      "text/plain": [
       "'s3://sagemaker-sample-data-us-east-1/tensorflow/mnist'"
      ]
     },
     "execution_count": 9,
     "metadata": {},
     "output_type": "execute_result"
    }
   ],
   "source": [
    "training_data_bucket = f'sagemaker-sample-data-{boto_session.region_name}'\n",
    "training_data_prefix = 'tensorflow/mnist'\n",
    "\n",
    "training_data_uri = f's3://{training_data_bucket}/{training_data_prefix}'\n",
    "training_data_uri"
   ]
  },
  {
   "cell_type": "code",
   "execution_count": 10,
   "metadata": {},
   "outputs": [
    {
     "data": {
      "text/plain": [
       "{'ResponseMetadata': {'RequestId': 'GFWP5F9WKB3H6X4K',\n",
       "  'HostId': '9/rD/ItGXwuh+qjYzr2iZpwU2DO+9NBAC7JAaxzqY4hord90cuW5bu9NR+mdsERKYvBXH+uBpqE=',\n",
       "  'HTTPStatusCode': 200,\n",
       "  'HTTPHeaders': {'x-amz-id-2': '9/rD/ItGXwuh+qjYzr2iZpwU2DO+9NBAC7JAaxzqY4hord90cuW5bu9NR+mdsERKYvBXH+uBpqE=',\n",
       "   'x-amz-request-id': 'GFWP5F9WKB3H6X4K',\n",
       "   'date': 'Sun, 13 Mar 2022 17:46:43 GMT',\n",
       "   'x-amz-bucket-region': 'us-east-1',\n",
       "   'content-type': 'application/xml',\n",
       "   'transfer-encoding': 'chunked',\n",
       "   'server': 'AmazonS3'},\n",
       "  'RetryAttempts': 0},\n",
       " 'IsTruncated': False,\n",
       " 'Marker': '',\n",
       " 'Contents': [{'Key': 'tensorflow/mnist/eval_data.npy',\n",
       "   'LastModified': datetime.datetime(2019, 1, 24, 23, 36, 40, tzinfo=tzlocal()),\n",
       "   'ETag': '\"999d245abdf1f6f45d8b516ef04367e0-4\"',\n",
       "   'Size': 31360128,\n",
       "   'StorageClass': 'STANDARD'},\n",
       "  {'Key': 'tensorflow/mnist/eval_labels.npy',\n",
       "   'LastModified': datetime.datetime(2019, 1, 24, 23, 36, 40, tzinfo=tzlocal()),\n",
       "   'ETag': '\"bf645d8a74fbd6d63977d0709bcb99c9\"',\n",
       "   'Size': 40128,\n",
       "   'StorageClass': 'STANDARD'},\n",
       "  {'Key': 'tensorflow/mnist/train_data.npy',\n",
       "   'LastModified': datetime.datetime(2019, 1, 24, 23, 36, 40, tzinfo=tzlocal()),\n",
       "   'ETag': '\"925e1a8eacf54863188a1022716a2867-21\"',\n",
       "   'Size': 172480128,\n",
       "   'StorageClass': 'STANDARD'},\n",
       "  {'Key': 'tensorflow/mnist/train_labels.npy',\n",
       "   'LastModified': datetime.datetime(2019, 1, 24, 23, 36, 40, tzinfo=tzlocal()),\n",
       "   'ETag': '\"a1936dfdf970ddcb7d3e70c136a9047d\"',\n",
       "   'Size': 220128,\n",
       "   'StorageClass': 'STANDARD'}],\n",
       " 'Name': 'sagemaker-sample-data-us-east-1',\n",
       " 'Prefix': 'tensorflow/mnist',\n",
       " 'MaxKeys': 1000,\n",
       " 'EncodingType': 'url'}"
      ]
     },
     "execution_count": 10,
     "metadata": {},
     "output_type": "execute_result"
    }
   ],
   "source": [
    "boto_session.client('s3').list_objects(\n",
    "Bucket = training_data_bucket,\n",
    "Prefix = training_data_prefix)"
   ]
  },
  {
   "cell_type": "code",
   "execution_count": null,
   "metadata": {},
   "outputs": [],
   "source": []
  }
 ],
 "metadata": {
  "instance_type": "ml.t3.medium",
  "kernelspec": {
   "display_name": "Python 3 (Data Science)",
   "language": "python",
   "name": "python3__SAGEMAKER_INTERNAL__arn:aws:sagemaker:us-east-1:081325390199:image/datascience-1.0"
  },
  "language_info": {
   "codemirror_mode": {
    "name": "ipython",
    "version": 3
   },
   "file_extension": ".py",
   "mimetype": "text/x-python",
   "name": "python",
   "nbconvert_exporter": "python",
   "pygments_lexer": "ipython3",
   "version": "3.7.10"
  }
 },
 "nbformat": 4,
 "nbformat_minor": 4
}
